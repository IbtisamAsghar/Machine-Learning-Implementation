{
 "cells": [
  {
   "cell_type": "code",
   "execution_count": null,
   "id": "2e765f14-a782-44dd-b405-5cc86d260185",
   "metadata": {},
   "outputs": [],
   "source": []
  }
 ],
 "metadata": {
  "kernelspec": {
   "display_name": "",
   "name": ""
  },
  "language_info": {
   "name": ""
  }
 },
 "nbformat": 4,
 "nbformat_minor": 5
}
